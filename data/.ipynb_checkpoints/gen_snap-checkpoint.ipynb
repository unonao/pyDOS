{
 "cells": [
  {
   "cell_type": "markdown",
   "metadata": {
    "colab_type": "text",
    "id": "OGek-LhkAbYF"
   },
   "source": [
    "# snap によるネットワークモデルの生成\n",
    "snap の [Graph Generators](https://snap.stanford.edu/snappy/doc/reference/generators.html) を利用"
   ]
  },
  {
   "cell_type": "markdown",
   "metadata": {
    "colab_type": "text",
    "id": "88TjCj9HAi3R"
   },
   "source": [
    "## imoprt modules\n"
   ]
  },
  {
   "cell_type": "code",
   "execution_count": 5,
   "metadata": {
    "colab": {
     "base_uri": "https://localhost:8080/",
     "height": 34
    },
    "colab_type": "code",
    "id": "REsC-MYJ3KIL",
    "outputId": "b1d39d26-51e7-41e3-f63b-c59ca248f3a6"
   },
   "outputs": [
    {
     "name": "stdout",
     "output_type": "stream",
     "text": [
      "Requirement already satisfied: snap-stanford in /usr/local/var/pyenv/versions/3.7.5/lib/python3.7/site-packages (5.0.0)\n",
      "\u001b[33mWARNING: You are using pip version 20.2.4; however, version 20.3.1 is available.\n",
      "You should consider upgrading via the '/usr/local/var/pyenv/versions/3.7.5/bin/python3.7 -m pip install --upgrade pip' command.\u001b[0m\n"
     ]
    }
   ],
   "source": [
    "!pip install snap-stanford\n",
    "import snap\n",
    "from IPython.display import Image\n"
   ]
  },
  {
   "cell_type": "markdown",
   "metadata": {
    "colab_type": "text",
    "id": "GvA-pK_cBlKU"
   },
   "source": [
    "## [complete graph](https://snap.stanford.edu/snappy/doc/reference/GenFull.html)\n",
    "Generates a complete graph on Nodes nodes. Graph has no self-loops."
   ]
  },
  {
   "cell_type": "code",
   "execution_count": 0,
   "metadata": {
    "colab": {},
    "colab_type": "code",
    "id": "samSQ_REBpVa"
   },
   "outputs": [],
   "source": [
    "N = 3000\n",
    "G = snap.GenFull(snap.PNGraph, N)\n",
    "G = snap.ConvertGraph(snap.PUNGraph, G)\n",
    "snap.SaveEdgeList(G, 'complete_graph_%d.txt' % (N))"
   ]
  },
  {
   "cell_type": "code",
   "execution_count": 0,
   "metadata": {
    "colab": {},
    "colab_type": "code",
    "id": "5owsBye8B3Vk"
   },
   "outputs": [],
   "source": [
    "files.download('complete_graph_%d.txt' % (N))"
   ]
  },
  {
   "cell_type": "code",
   "execution_count": 0,
   "metadata": {
    "colab": {},
    "colab_type": "code",
    "id": "NlIUOB1anatN"
   },
   "outputs": [],
   "source": [
    "# show example\n",
    "N = 6\n",
    "G = snap.GenFull(snap.PNGraph, N)\n",
    "G = snap.ConvertGraph(snap.PUNGraph, G)\n",
    "snap.DrawGViz(G, snap.gvlDot, 'complete_graph_%d.png' % (N), \"N=%d\"%(N))\n",
    "#Image('complete_graph_%d.png' % (N))"
   ]
  },
  {
   "cell_type": "markdown",
   "metadata": {
    "colab_type": "text",
    "id": "gfVBUASlMI_s"
   },
   "source": [
    "## [circular graph](https://snap.stanford.edu/snappy/doc/reference/GenCircle.html)\n",
    "Generate a circular graph of type GraphType with Nodes nodes. The generated graph will have an edge from each node to the subsequent OutDegree nodes."
   ]
  },
  {
   "cell_type": "code",
   "execution_count": 0,
   "metadata": {
    "colab": {},
    "colab_type": "code",
    "id": "hX1BokhQMn5B"
   },
   "outputs": [],
   "source": [
    "N = 3000\n",
    "D = 4\n",
    "G = snap.GenCircle(snap.PUNGraph, N, D)\n",
    "snap.SaveEdgeList(G, 'circular_graph_%d_%d.txt' % (N,D))"
   ]
  },
  {
   "cell_type": "code",
   "execution_count": 0,
   "metadata": {
    "colab": {},
    "colab_type": "code",
    "id": "fSItS6QRPS0i"
   },
   "outputs": [],
   "source": [
    "files.download('circular_graph_%d_%d.txt' % (N,D))"
   ]
  },
  {
   "cell_type": "code",
   "execution_count": 0,
   "metadata": {
    "colab": {},
    "colab_type": "code",
    "id": "cB_5zQIzMi9C"
   },
   "outputs": [],
   "source": [
    "# show example\n",
    "N = 10\n",
    "D = 2\n",
    "G = snap.GenCircle(snap.PUNGraph, N, D)\n",
    "snap.DrawGViz(G, snap.gvlDot, \"circle_%d_%d.png\"%(N,D), \"OutDegree=2\")\n",
    "#Image(\"circle_%d_%d.png\"%(N,D))"
   ]
  },
  {
   "cell_type": "markdown",
   "metadata": {
    "colab_type": "text",
    "id": "8gz25AuZk6Sh"
   },
   "source": [
    "## [Grid graph](https://snap.stanford.edu/snappy/doc/reference/GenGrid.html)\n",
    "Generates a two-dimensional graph of rows and columns specified by Rows and Cols parameters."
   ]
  },
  {
   "cell_type": "code",
   "execution_count": 31,
   "metadata": {
    "colab": {
     "base_uri": "https://localhost:8080/",
     "height": 68
    },
    "colab_type": "code",
    "id": "IxRQ2aGlR2fK",
    "outputId": "195be570-f885-4510-b465-60fec5f70d1c"
   },
   "outputs": [
    {
     "name": "stdout",
     "output_type": "stream",
     "text": [
      "[221.1781028990984, 221.1781028990984, 383, 132.0512]\n",
      "0.0\n",
      "3.98\n"
     ]
    }
   ],
   "source": [
    "r = 200\n",
    "c = 200\n",
    "G = snap.GenGrid(snap.PUNGraph, r, c, False)\n",
    "print(snap.GetBfsEffDiamAll(G,200, False))\n",
    "print(snap.GetClustCf(G))\n",
    "sumDeg = 0\n",
    "CntV = snap.TIntPrV()\n",
    "snap.GetOutDegCnt(G, CntV)\n",
    "for p in CntV:\n",
    "  sumDeg += p.GetVal1()* p.GetVal2()\n",
    "print(sumDeg/(r*c))\n",
    "snap.SaveEdgeList(G, 'grid_graph_%d_%d.txt' % (r,c))"
   ]
  },
  {
   "cell_type": "code",
   "execution_count": 0,
   "metadata": {
    "colab": {},
    "colab_type": "code",
    "id": "K4E8t6Twlxul"
   },
   "outputs": [],
   "source": [
    "files.download('grid_graph_%d_%d.txt' % (r,c))"
   ]
  },
  {
   "cell_type": "markdown",
   "metadata": {
    "colab_type": "text",
    "id": "Ln2AQlg6iRik"
   },
   "source": [
    "## sparse grid graph\n",
    "\n"
   ]
  },
  {
   "cell_type": "code",
   "execution_count": 0,
   "metadata": {
    "colab": {
     "base_uri": "https://localhost:8080/",
     "height": 85
    },
    "colab_type": "code",
    "id": "dAx6A5BzXbwJ",
    "outputId": "1212dd6c-4afa-4f4d-eade-c0a5343ebb8a"
   },
   "outputs": [
    {
     "name": "stdout",
     "output_type": "stream",
     "text": [
      "[228.72371662232732, 228.72371662232732, 386, 138.59469907696925]\n",
      "0.0\n",
      "56889\n",
      "2.84445\n"
     ]
    }
   ],
   "source": [
    "import numpy as np\n",
    "r = 200\n",
    "c = 200\n",
    "G = snap.GenGrid(snap.PUNGraph, r, c, False)\n",
    "E = G.GetEdges()\n",
    "reqE = (int)(r*c*1.3)\n",
    "lis = np.random.rand(E)\n",
    "delE = lis>(reqE/E)\n",
    "i=0\n",
    "for EI in G.Edges():\n",
    "  if(delE[i]):\n",
    "    G.DelEdge(EI.GetSrcNId(), EI.GetDstNId())\n",
    "  i+=1\n",
    "print(snap.GetBfsEffDiamAll(G,200, False))\n",
    "print(snap.GetClustCf(G))\n",
    "print(G.GetEdges())\n",
    "sumDeg = 0\n",
    "CntV = snap.TIntPrV()\n",
    "snap.GetOutDegCnt(G, CntV)\n",
    "for p in CntV:\n",
    "  sumDeg += p.GetVal1()* p.GetVal2()\n",
    "print(sumDeg/(r*c))\n",
    "snap.SaveEdgeList(G, 'grid_graph_deleted_%d_%d.txt' % (r,c))"
   ]
  },
  {
   "cell_type": "code",
   "execution_count": 0,
   "metadata": {
    "colab": {},
    "colab_type": "code",
    "id": "t0j9pHBHZuWS"
   },
   "outputs": [],
   "source": [
    "files.download('grid_graph_deleted_%d_%d.txt' % (r,c))"
   ]
  },
  {
   "cell_type": "markdown",
   "metadata": {
    "colab_type": "text",
    "id": "o5HMCsdWo075"
   },
   "source": [
    "## [Star graph](https://snap.stanford.edu/snappy/doc/reference/GenStar.html)\n",
    "Generates a graph with star topology. Node id 0 is in the center and then links to all other nodes."
   ]
  },
  {
   "cell_type": "code",
   "execution_count": 0,
   "metadata": {
    "colab": {},
    "colab_type": "code",
    "id": "xDdvusnVo6nG"
   },
   "outputs": [],
   "source": [
    "N = 3000\n",
    "G = snap.GenStar(snap.PUNGraph, N, False)\n",
    "G = snap.ConvertGraph(snap.PUNGraph, G)\n",
    "snap.SaveEdgeList(G, 'star_graph_%d.txt' % (N))"
   ]
  },
  {
   "cell_type": "code",
   "execution_count": 0,
   "metadata": {
    "colab": {},
    "colab_type": "code",
    "id": "iXpfWOD7o-aY"
   },
   "outputs": [],
   "source": [
    "files.download('star_graph_%d.txt' % (N))"
   ]
  },
  {
   "cell_type": "code",
   "execution_count": 0,
   "metadata": {
    "colab": {},
    "colab_type": "code",
    "id": "OVidXo9dpADN"
   },
   "outputs": [],
   "source": [
    "N = 6\n",
    "G = snap.GenStar(snap.PUNGraph, N, False)\n",
    "G = snap.ConvertGraph(snap.PUNGraph, G)\n",
    "snap.DrawGViz(G, snap.gvlDot, 'star_graph_%d.png' % (N), \"N=%d\"%(N))\n",
    "#Image('star_graph_%d.png' % (N))"
   ]
  },
  {
   "cell_type": "markdown",
   "metadata": {
    "colab_type": "text",
    "id": "CHkPp5LSsgAX"
   },
   "source": [
    "## [Tree](https://snap.stanford.edu/snappy/doc/reference/GenTree.html)\n",
    "Generates a tree graph of Levels levels with every parent having Fanout children."
   ]
  },
  {
   "cell_type": "code",
   "execution_count": 0,
   "metadata": {
    "colab": {
     "base_uri": "https://localhost:8080/",
     "height": 34
    },
    "colab_type": "code",
    "id": "CA6LI7iQsuZ4",
    "outputId": "794ab2d9-dfea-4904-afe4-1c243ec2a56f"
   },
   "outputs": [
    {
     "name": "stdout",
     "output_type": "stream",
     "text": [
      "2047\n"
     ]
    }
   ],
   "source": [
    "c = 2\n",
    "d = 10\n",
    "G = snap.GenTree(snap.PUNGraph, c, d)\n",
    "snap.SaveEdgeList(G, 'tree_%d_%d.txt' % (c,d))\n",
    "print(G.GetNodes())"
   ]
  },
  {
   "cell_type": "code",
   "execution_count": 0,
   "metadata": {
    "colab": {},
    "colab_type": "code",
    "id": "LwxDu_9ZtFXZ"
   },
   "outputs": [],
   "source": [
    "files.download('tree_%d_%d.txt' % (c,d))"
   ]
  },
  {
   "cell_type": "markdown",
   "metadata": {
    "colab_type": "text",
    "id": "T28GAFE1AyUj"
   },
   "source": [
    "## [Random graph model](https://snap.stanford.edu/snappy/doc/reference/GenRndGnm.html)\n",
    "Generates an Erdos-Renyi random graph of the specified GraphType."
   ]
  },
  {
   "cell_type": "code",
   "execution_count": 0,
   "metadata": {
    "colab": {},
    "colab_type": "code",
    "id": "nrWBiszwA1JV"
   },
   "outputs": [],
   "source": [
    "N = 3000\n",
    "M = 300000\n",
    "G = snap.GenRndGnm(snap.PUNGraph, N, M)\n",
    "snap.SaveEdgeList(G, 'Erdos-Renyi_random_graph_%d_%d.txt' % (N,M))"
   ]
  },
  {
   "cell_type": "code",
   "execution_count": 0,
   "metadata": {
    "colab": {},
    "colab_type": "code",
    "id": "iSd5GD8YzckR"
   },
   "outputs": [],
   "source": [
    "files.download('Erdos-Renyi_random_graph_%d_%d.txt' % (N,M))"
   ]
  },
  {
   "cell_type": "markdown",
   "metadata": {
    "colab_type": "text",
    "id": "FMJZupLo8Vcw"
   },
   "source": [
    "## scale-free model ([Barabasi-Albert model](https://snap.stanford.edu/snappy/doc/reference/GenPrefAttach.html))\n",
    "Generates an undirected graph with a power-law degree distribution using Barabasi-Albert model of scale-free graphs."
   ]
  },
  {
   "cell_type": "code",
   "execution_count": 0,
   "metadata": {
    "colab": {
     "base_uri": "https://localhost:8080/",
     "height": 51
    },
    "colab_type": "code",
    "id": "FTJVNaAM8msV",
    "outputId": "d9911d9d-c76d-4572-8e75-28a8728e8d7d"
   },
   "outputs": [
    {
     "name": "stdout",
     "output_type": "stream",
     "text": [
      "[3.7288633538348366, 3.7288633538348366, 5, 3.279085]\n",
      "0.020481672224953135\n"
     ]
    }
   ],
   "source": [
    "N = 3000\n",
    "m = 5\n",
    "Rnd = snap.TRnd()\n",
    "G = snap.GenPrefAttach(N, m, Rnd)\n",
    "print(snap.GetBfsEffDiamAll(G,200, False))\n",
    "print(snap.GetClustCf(G))\n",
    "snap.SaveEdgeList(G, 'scale-free_%d_%d.txt' % (N,m))"
   ]
  },
  {
   "cell_type": "code",
   "execution_count": 0,
   "metadata": {
    "colab": {},
    "colab_type": "code",
    "id": "wE1-mNIG8oL6"
   },
   "outputs": [],
   "source": [
    "files.download('scale-free_%d_%d.txt' % (N,m))"
   ]
  },
  {
   "cell_type": "markdown",
   "metadata": {
    "colab_type": "text",
    "id": "oRKqWGJaAe3L"
   },
   "source": [
    "## scale-free model ([Geometric Preferential Attachment model](https://snap.stanford.edu/snappy/doc/reference/GenGeoPrefAttach.html))\n",
    "Generate a random scale-free, undirected graph using the Geometric Preferential Attachment model by Flexman, Frieze and Vera."
   ]
  },
  {
   "cell_type": "code",
   "execution_count": 0,
   "metadata": {
    "colab": {},
    "colab_type": "code",
    "id": "YS0Zg4HFKCyx"
   },
   "outputs": [],
   "source": [
    "N = 3000\n",
    "m = 5\n",
    "beta = 0.49\n",
    "Rnd = snap.TRnd()\n",
    "G = snap.GenGeoPrefAttach(N, m, beta, Rnd)\n",
    "snap.SaveEdgeList(G, 'scale-free_geometric_%d_%d_%.2f.txt' % (N,m,beta))"
   ]
  },
  {
   "cell_type": "code",
   "execution_count": 0,
   "metadata": {
    "colab": {},
    "colab_type": "code",
    "id": "lfn46L3aKXOE"
   },
   "outputs": [],
   "source": [
    "files.download('scale-free_geometric_%d_%d_%.2f.txt' % (N,m,beta))"
   ]
  },
  {
   "cell_type": "markdown",
   "metadata": {
    "colab_type": "text",
    "id": "-t0FjI9FAnfo"
   },
   "source": [
    "## [forest fire model](https://snap.stanford.edu/snappy/doc/reference/GenForestFire.html)\n",
    "Generates a random Forest Fire, directed graph with given probabilities."
   ]
  },
  {
   "cell_type": "code",
   "execution_count": 7,
   "metadata": {
    "colab": {
     "base_uri": "https://localhost:8080/",
     "height": 51
    },
    "colab_type": "code",
    "id": "krFY0_gj3Q2F",
    "outputId": "174dd0f4-902d-4fe0-d098-d1b091aee86c"
   },
   "outputs": [
    {
     "ename": "AttributeError",
     "evalue": "module 'snap' has no attribute 'GenForestFire'",
     "output_type": "error",
     "traceback": [
      "\u001b[0;31m---------------------------------------------------------------------------\u001b[0m",
      "\u001b[0;31mAttributeError\u001b[0m                            Traceback (most recent call last)",
      "\u001b[0;32m<ipython-input-7-8a0591497a16>\u001b[0m in \u001b[0;36m<module>\u001b[0;34m\u001b[0m\n\u001b[1;32m      3\u001b[0m \u001b[0mf\u001b[0m \u001b[0;34m=\u001b[0m \u001b[0;36m0.30\u001b[0m\u001b[0;34m\u001b[0m\u001b[0;34m\u001b[0m\u001b[0m\n\u001b[1;32m      4\u001b[0m \u001b[0mb\u001b[0m \u001b[0;34m=\u001b[0m \u001b[0;36m0.30\u001b[0m\u001b[0;34m\u001b[0m\u001b[0;34m\u001b[0m\u001b[0m\n\u001b[0;32m----> 5\u001b[0;31m \u001b[0mG\u001b[0m \u001b[0;34m=\u001b[0m \u001b[0msnap\u001b[0m\u001b[0;34m.\u001b[0m\u001b[0mGenForestFire\u001b[0m\u001b[0;34m(\u001b[0m\u001b[0mN\u001b[0m\u001b[0;34m,\u001b[0m\u001b[0mf\u001b[0m\u001b[0;34m,\u001b[0m\u001b[0mb\u001b[0m\u001b[0;34m)\u001b[0m\u001b[0;34m\u001b[0m\u001b[0;34m\u001b[0m\u001b[0m\n\u001b[0m\u001b[1;32m      6\u001b[0m \u001b[0mG\u001b[0m \u001b[0;34m=\u001b[0m \u001b[0msnap\u001b[0m\u001b[0;34m.\u001b[0m\u001b[0mConvertGraph\u001b[0m\u001b[0;34m(\u001b[0m\u001b[0msnap\u001b[0m\u001b[0;34m.\u001b[0m\u001b[0mPUNGraph\u001b[0m\u001b[0;34m,\u001b[0m \u001b[0mG\u001b[0m\u001b[0;34m)\u001b[0m\u001b[0;34m\u001b[0m\u001b[0;34m\u001b[0m\u001b[0m\n\u001b[1;32m      7\u001b[0m \u001b[0mprint\u001b[0m\u001b[0;34m(\u001b[0m\u001b[0msnap\u001b[0m\u001b[0;34m.\u001b[0m\u001b[0mGetBfsEffDiamAll\u001b[0m\u001b[0;34m(\u001b[0m\u001b[0mG\u001b[0m\u001b[0;34m,\u001b[0m\u001b[0;36m200\u001b[0m\u001b[0;34m,\u001b[0m \u001b[0;32mFalse\u001b[0m\u001b[0;34m)\u001b[0m\u001b[0;34m)\u001b[0m\u001b[0;34m\u001b[0m\u001b[0;34m\u001b[0m\u001b[0m\n",
      "\u001b[0;31mAttributeError\u001b[0m: module 'snap' has no attribute 'GenForestFire'"
     ]
    }
   ],
   "source": [
    "import snap\n",
    "N = 1000\n",
    "f = 0.30\n",
    "b = 0.30\n",
    "G = snap.GenForestFire(N,f,b)\n",
    "G = snap.ConvertGraph(snap.PUNGraph, G)\n",
    "print(snap.GetBfsEffDiamAll(G,200, False))\n",
    "print(snap.GetClustCf(G))\n",
    "snap.SaveEdgeList(G, 'forest_fire_%d_%.2f_%.2f.txt' % (N,f,b))"
   ]
  },
  {
   "cell_type": "code",
   "execution_count": 0,
   "metadata": {
    "colab": {},
    "colab_type": "code",
    "id": "jzuis3yX3zgi"
   },
   "outputs": [],
   "source": [
    "files.download('forest_fire_%d_%.2f_%.2f.txt' % (N,f,b))"
   ]
  },
  {
   "cell_type": "code",
   "execution_count": 0,
   "metadata": {
    "colab": {},
    "colab_type": "code",
    "id": "WK8WROhD-ssF"
   },
   "outputs": [],
   "source": [
    "N = 30\n",
    "f = 0.35\n",
    "b = 0.35\n",
    "G = snap.GenForestFire(N,f,b)\n",
    "snap.DrawGViz(G, snap.gvlDot, 'forest_fire_%d_%.2f_%.2f.png' % (N,f,b))\n",
    "#Image('forest_fire_%d_%.2f_%.2f.png' % (N,f,b))"
   ]
  },
  {
   "cell_type": "code",
   "execution_count": 0,
   "metadata": {
    "colab": {},
    "colab_type": "code",
    "id": "RPO1mxgZcto_"
   },
   "outputs": [],
   "source": []
  },
  {
   "cell_type": "markdown",
   "metadata": {
    "colab_type": "text",
    "id": "ygxsg5D5-Leg"
   },
   "source": [
    "## small world model\n"
   ]
  },
  {
   "cell_type": "code",
   "execution_count": 0,
   "metadata": {
    "colab": {
     "base_uri": "https://localhost:8080/",
     "height": 51
    },
    "colab_type": "code",
    "id": "3iq2QwEX-Rdc",
    "outputId": "96a77992-984b-4ed2-88f8-09b062a5c2f9"
   },
   "outputs": [
    {
     "name": "stdout",
     "output_type": "stream",
     "text": [
      "[6.427417636926897, 6.427417636926897, 9, 5.610188]\n",
      "0.4924089366189394\n"
     ]
    }
   ],
   "source": [
    "N = 5000\n",
    "d = 5\n",
    "p = 0.1\n",
    "Rnd = snap.TRnd(1,0)\n",
    "G = snap.GenSmallWorld(N, d, p, Rnd)\n",
    "G = snap.ConvertGraph(snap.PUNGraph, G)\n",
    "print(snap.GetBfsEffDiamAll(G,200, False))\n",
    "print(snap.GetClustCf(G))\n",
    "snap.SaveEdgeList(G, 'small_world_%d_%d_%.3f.txt' % (N,d,p))"
   ]
  },
  {
   "cell_type": "code",
   "execution_count": 0,
   "metadata": {
    "colab": {},
    "colab_type": "code",
    "id": "r35EHVI4-kno"
   },
   "outputs": [],
   "source": [
    "files.download('small_world_%d_%d_%.3f.txt' % (N,d,p))"
   ]
  },
  {
   "cell_type": "markdown",
   "metadata": {
    "colab_type": "text",
    "id": "E3cBz1OQNSdX"
   },
   "source": [
    "## [Ravasz-Barabasi deterministic scale-free graph](http://snap.stanford.edu/snappy/doc/reference/GenBaraHierar.html)"
   ]
  },
  {
   "cell_type": "code",
   "execution_count": 0,
   "metadata": {
    "colab": {
     "base_uri": "https://localhost:8080/",
     "height": 51
    },
    "colab_type": "code",
    "id": "7aquTgjxNegD",
    "outputId": "cc811b8f-b752-42ed-ecc2-4927a2ab2533"
   },
   "outputs": [
    {
     "name": "stdout",
     "output_type": "stream",
     "text": [
      "[6.330690213229471, 6.330690213229471, 12, 4.560583552]\n",
      "0.5508829695844791\n"
     ]
    }
   ],
   "source": [
    "n=5\n",
    "G = snap.GenBaraHierar(snap.PNGraph, n, False)\n",
    "G = snap.ConvertGraph(snap.PUNGraph, G)\n",
    "snap.SaveEdgeList(G, 'ravasz-barabasi_%d.txt' % (n))\n",
    "print(snap.GetBfsEffDiamAll(G,2000, False))\n",
    "print(snap.GetClustCf(G))"
   ]
  },
  {
   "cell_type": "code",
   "execution_count": 0,
   "metadata": {
    "colab": {},
    "colab_type": "code",
    "id": "vhDcHFAjOyxP"
   },
   "outputs": [],
   "source": [
    "files.download('ravasz-barabasi_%d.txt' % (n))"
   ]
  },
  {
   "cell_type": "code",
   "execution_count": 0,
   "metadata": {
    "colab": {},
    "colab_type": "code",
    "id": "Y45x28niPN7d"
   },
   "outputs": [],
   "source": []
  },
  {
   "cell_type": "markdown",
   "metadata": {
    "colab_type": "text",
    "id": "Fb1jkm_NsyWZ"
   },
   "source": [
    "## [Copying model](https://snap.stanford.edu/snappy/doc/reference/GenCopyModel.html)\n",
    "Generates a random scale-free network with Nodes nodes using the Copying Model. The generating process operates as follows: Node u is added to a graph, it selects a random node v, and with probability Beta it links to v, with 1 - Beta links u links to neighbor of v."
   ]
  },
  {
   "cell_type": "code",
   "execution_count": 0,
   "metadata": {
    "colab": {
     "base_uri": "https://localhost:8080/",
     "height": 51
    },
    "colab_type": "code",
    "id": "ntJ9yycfs-0-",
    "outputId": "90fdcdf1-8e36-4b73-df62-cfbbbb373150"
   },
   "outputs": [
    {
     "name": "stdout",
     "output_type": "stream",
     "text": [
      "[17.201033973765487, 17.201033973765487, 30, 13.0264238]\n",
      "2.222222222222222e-05\n"
     ]
    }
   ],
   "source": [
    "n=5000\n",
    "beta = 0.9\n",
    "G =  snap.GenCopyModel(n, beta, snap.TRnd())\n",
    "G = snap.ConvertGraph(snap.PUNGraph, G)\n",
    "snap.SaveEdgeList(G, 'copying_model_%d_%.2f.txt' % (n,beta))\n",
    "print(snap.GetBfsEffDiamAll(G,2000, False))\n",
    "print(snap.GetClustCf(G))"
   ]
  },
  {
   "cell_type": "code",
   "execution_count": 0,
   "metadata": {
    "colab": {},
    "colab_type": "code",
    "id": "iPqaL6-f7SzI"
   },
   "outputs": [],
   "source": [
    "files.download('copying_model_%d_%.2f.txt' % (n,beta))"
   ]
  },
  {
   "cell_type": "code",
   "execution_count": 0,
   "metadata": {
    "colab": {},
    "colab_type": "code",
    "id": "Txhe0S6_7gyJ"
   },
   "outputs": [],
   "source": []
  },
  {
   "cell_type": "markdown",
   "metadata": {
    "colab_type": "text",
    "id": "hSzme5Q3Cqeq"
   },
   "source": [
    "## [Rewrite](https://snap.stanford.edu/snappy/doc/reference/GenRewire.html)\n"
   ]
  },
  {
   "cell_type": "code",
   "execution_count": 0,
   "metadata": {
    "colab": {},
    "colab_type": "code",
    "id": "mq7RrTZgCx0M"
   },
   "outputs": [],
   "source": [
    "n=5\n",
    "G = snap.GenBaraHierar(snap.PNGraph, n, False)\n",
    "G = snap.ConvertGraph(snap.PUNGraph, G)"
   ]
  },
  {
   "cell_type": "code",
   "execution_count": 0,
   "metadata": {
    "colab": {
     "base_uri": "https://localhost:8080/",
     "height": 85
    },
    "colab_type": "code",
    "id": "p5C-LjRJDFxl",
    "outputId": "3a5d774a-d839-4074-9beb-224b66396a14"
   },
   "outputs": [
    {
     "name": "stdout",
     "output_type": "stream",
     "text": [
      "58616 0.0001 5.8616 5\n",
      "58616 0.0001 5.8616 5\n",
      "[3.6241033736708, 3.6241033736708, 6, 3.10185472]\n",
      "0.08706837870031181\n"
     ]
    }
   ],
   "source": [
    "E = snap.CntUniqBiDirEdges(G)\n",
    "p = 0.0001\n",
    "print(E, p, E*p, int(E*p))\n",
    "GOut = snap.GenRewire(G, 1, snap.TRnd())\n",
    "print(E, p, E*p, int(E*p))\n",
    "print(snap.GetBfsEffDiamAll(GOut,100, False))\n",
    "print(snap.GetClustCf(GOut))\n",
    "snap.SaveEdgeList(GOut, 'ravasz-barabasi_rewrite_%d_%.4f.txt' % (n,p))"
   ]
  },
  {
   "cell_type": "code",
   "execution_count": 0,
   "metadata": {
    "colab": {},
    "colab_type": "code",
    "id": "DlPtAPKmDhQ6"
   },
   "outputs": [],
   "source": [
    "files.download('ravasz-barabasi_rewrite_%d_%.4f.txt' % (n,p))"
   ]
  },
  {
   "cell_type": "code",
   "execution_count": 0,
   "metadata": {
    "colab": {
     "base_uri": "https://localhost:8080/",
     "height": 663
    },
    "colab_type": "code",
    "id": "equjjCbSInII",
    "outputId": "a68d6df7-0a9f-49db-be28-55121ca27022"
   },
   "outputs": [
    {
     "name": "stdout",
     "output_type": "stream",
     "text": [
      "edge: (0, 1)\n",
      "edge: (0, 3)\n",
      "edge: (1, 2)\n",
      "edge: (1, 6)\n",
      "edge: (1, 7)\n",
      "edge: (2, 3)\n",
      "edge: (2, 5)\n",
      "edge: (2, 6)\n",
      "edge: (2, 7)\n",
      "edge: (3, 4)\n",
      "edge: (3, 5)\n",
      "edge: (3, 7)\n",
      "edge: (3, 9)\n",
      "edge: (4, 5)\n",
      "edge: (4, 8)\n",
      "edge: (5, 8)\n",
      "edge: (5, 9)\n",
      "edge: (6, 7)\n",
      "edge: (7, 9)\n",
      "edge: (8, 9)\n",
      "edge: (0, 3)\n",
      "edge: (0, 8)\n",
      "edge: (1, 2)\n",
      "edge: (1, 4)\n",
      "edge: (1, 5)\n",
      "edge: (1, 6)\n",
      "edge: (2, 5)\n",
      "edge: (2, 6)\n",
      "edge: (2, 7)\n",
      "edge: (2, 9)\n",
      "edge: (3, 5)\n",
      "edge: (3, 7)\n",
      "edge: (3, 9)\n",
      "edge: (4, 5)\n",
      "edge: (4, 8)\n",
      "edge: (6, 7)\n",
      "edge: (7, 8)\n",
      "edge: (7, 9)\n"
     ]
    }
   ],
   "source": [
    "GIn = snap.GenRndGnm(snap.PUNGraph, 10, 20)\n",
    "for EI in GIn.Edges():\n",
    "    print(\"edge: (%d, %d)\" % (EI.GetSrcNId(), EI.GetDstNId()))\n",
    "\n",
    "Rnd = snap.TRnd()\n",
    "GOut = snap.GenRewire(GIn, 1, Rnd)\n",
    "for EI in GOut.Edges():\n",
    "    print(\"edge: (%d, %d)\" % (EI.GetSrcNId(), EI.GetDstNId()))"
   ]
  },
  {
   "cell_type": "code",
   "execution_count": 0,
   "metadata": {
    "colab": {},
    "colab_type": "code",
    "id": "CripdHKlKAG0"
   },
   "outputs": [],
   "source": []
  }
 ],
 "metadata": {
  "colab": {
   "collapsed_sections": [
    "GvA-pK_cBlKU",
    "gfVBUASlMI_s",
    "o5HMCsdWo075",
    "CHkPp5LSsgAX",
    "T28GAFE1AyUj",
    "oRKqWGJaAe3L",
    "-t0FjI9FAnfo",
    "ygxsg5D5-Leg"
   ],
   "name": "gen_snap.ipynb",
   "provenance": []
  },
  "kernelspec": {
   "display_name": "Python 3",
   "language": "python",
   "name": "python3"
  },
  "language_info": {
   "codemirror_mode": {
    "name": "ipython",
    "version": 3
   },
   "file_extension": ".py",
   "mimetype": "text/x-python",
   "name": "python",
   "nbconvert_exporter": "python",
   "pygments_lexer": "ipython3",
   "version": "3.7.5"
  }
 },
 "nbformat": 4,
 "nbformat_minor": 1
}
