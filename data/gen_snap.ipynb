{
  "nbformat": 4,
  "nbformat_minor": 0,
  "metadata": {
    "colab": {
      "name": "gen_snap.ipynb",
      "provenance": [],
      "collapsed_sections": [
        "GvA-pK_cBlKU",
        "gfVBUASlMI_s",
        "o5HMCsdWo075",
        "CHkPp5LSsgAX",
        "T28GAFE1AyUj",
        "oRKqWGJaAe3L",
        "-t0FjI9FAnfo",
        "ygxsg5D5-Leg"
      ]
    },
    "kernelspec": {
      "name": "python3",
      "display_name": "Python 3"
    }
  },
  "cells": [
    {
      "cell_type": "markdown",
      "metadata": {
        "id": "OGek-LhkAbYF",
        "colab_type": "text"
      },
      "source": [
        "# snap によるネットワークモデルの生成\n",
        "snap の [Graph Generators](https://snap.stanford.edu/snappy/doc/reference/generators.html) を利用"
      ]
    },
    {
      "cell_type": "markdown",
      "metadata": {
        "id": "88TjCj9HAi3R",
        "colab_type": "text"
      },
      "source": [
        "## imoprt modules\n"
      ]
    },
    {
      "cell_type": "code",
      "metadata": {
        "id": "REsC-MYJ3KIL",
        "colab_type": "code",
        "outputId": "b1d39d26-51e7-41e3-f63b-c59ca248f3a6",
        "colab": {
          "base_uri": "https://localhost:8080/",
          "height": 34
        }
      },
      "source": [
        "!pip install snap-stanford\n",
        "import snap\n",
        "from google.colab import files\n",
        "from IPython.display import Image\n"
      ],
      "execution_count": 30,
      "outputs": [
        {
          "output_type": "stream",
          "text": [
            "Requirement already satisfied: snap-stanford in /usr/local/lib/python3.6/dist-packages (5.0.0)\n"
          ],
          "name": "stdout"
        }
      ]
    },
    {
      "cell_type": "markdown",
      "metadata": {
        "id": "GvA-pK_cBlKU",
        "colab_type": "text"
      },
      "source": [
        "## [complete graph](https://snap.stanford.edu/snappy/doc/reference/GenFull.html)\n",
        "Generates a complete graph on Nodes nodes. Graph has no self-loops."
      ]
    },
    {
      "cell_type": "code",
      "metadata": {
        "id": "samSQ_REBpVa",
        "colab_type": "code",
        "colab": {}
      },
      "source": [
        "N = 3000\n",
        "G = snap.GenFull(snap.PNGraph, N)\n",
        "G = snap.ConvertGraph(snap.PUNGraph, G)\n",
        "snap.SaveEdgeList(G, 'complete_graph_%d.txt' % (N))"
      ],
      "execution_count": 0,
      "outputs": []
    },
    {
      "cell_type": "code",
      "metadata": {
        "id": "5owsBye8B3Vk",
        "colab_type": "code",
        "colab": {}
      },
      "source": [
        "files.download('complete_graph_%d.txt' % (N))"
      ],
      "execution_count": 0,
      "outputs": []
    },
    {
      "cell_type": "code",
      "metadata": {
        "id": "NlIUOB1anatN",
        "colab_type": "code",
        "colab": {}
      },
      "source": [
        "# show example\n",
        "N = 6\n",
        "G = snap.GenFull(snap.PNGraph, N)\n",
        "G = snap.ConvertGraph(snap.PUNGraph, G)\n",
        "snap.DrawGViz(G, snap.gvlDot, 'complete_graph_%d.png' % (N), \"N=%d\"%(N))\n",
        "#Image('complete_graph_%d.png' % (N))"
      ],
      "execution_count": 0,
      "outputs": []
    },
    {
      "cell_type": "markdown",
      "metadata": {
        "id": "gfVBUASlMI_s",
        "colab_type": "text"
      },
      "source": [
        "## [circular graph](https://snap.stanford.edu/snappy/doc/reference/GenCircle.html)\n",
        "Generate a circular graph of type GraphType with Nodes nodes. The generated graph will have an edge from each node to the subsequent OutDegree nodes."
      ]
    },
    {
      "cell_type": "code",
      "metadata": {
        "id": "hX1BokhQMn5B",
        "colab_type": "code",
        "colab": {}
      },
      "source": [
        "N = 3000\n",
        "D = 4\n",
        "G = snap.GenCircle(snap.PUNGraph, N, D)\n",
        "snap.SaveEdgeList(G, 'circular_graph_%d_%d.txt' % (N,D))"
      ],
      "execution_count": 0,
      "outputs": []
    },
    {
      "cell_type": "code",
      "metadata": {
        "id": "fSItS6QRPS0i",
        "colab_type": "code",
        "colab": {}
      },
      "source": [
        "files.download('circular_graph_%d_%d.txt' % (N,D))"
      ],
      "execution_count": 0,
      "outputs": []
    },
    {
      "cell_type": "code",
      "metadata": {
        "id": "cB_5zQIzMi9C",
        "colab_type": "code",
        "colab": {}
      },
      "source": [
        "# show example\n",
        "N = 10\n",
        "D = 2\n",
        "G = snap.GenCircle(snap.PUNGraph, N, D)\n",
        "snap.DrawGViz(G, snap.gvlDot, \"circle_%d_%d.png\"%(N,D), \"OutDegree=2\")\n",
        "#Image(\"circle_%d_%d.png\"%(N,D))"
      ],
      "execution_count": 0,
      "outputs": []
    },
    {
      "cell_type": "markdown",
      "metadata": {
        "id": "8gz25AuZk6Sh",
        "colab_type": "text"
      },
      "source": [
        "## [Grid graph](https://snap.stanford.edu/snappy/doc/reference/GenGrid.html)\n",
        "Generates a two-dimensional graph of rows and columns specified by Rows and Cols parameters."
      ]
    },
    {
      "cell_type": "code",
      "metadata": {
        "id": "IxRQ2aGlR2fK",
        "colab_type": "code",
        "outputId": "195be570-f885-4510-b465-60fec5f70d1c",
        "colab": {
          "base_uri": "https://localhost:8080/",
          "height": 68
        }
      },
      "source": [
        "r = 200\n",
        "c = 200\n",
        "G = snap.GenGrid(snap.PUNGraph, r, c, False)\n",
        "print(snap.GetBfsEffDiamAll(G,200, False))\n",
        "print(snap.GetClustCf(G))\n",
        "sumDeg = 0\n",
        "CntV = snap.TIntPrV()\n",
        "snap.GetOutDegCnt(G, CntV)\n",
        "for p in CntV:\n",
        "  sumDeg += p.GetVal1()* p.GetVal2()\n",
        "print(sumDeg/(r*c))\n",
        "snap.SaveEdgeList(G, 'grid_graph_%d_%d.txt' % (r,c))"
      ],
      "execution_count": 31,
      "outputs": [
        {
          "output_type": "stream",
          "text": [
            "[221.1781028990984, 221.1781028990984, 383, 132.0512]\n",
            "0.0\n",
            "3.98\n"
          ],
          "name": "stdout"
        }
      ]
    },
    {
      "cell_type": "code",
      "metadata": {
        "id": "K4E8t6Twlxul",
        "colab_type": "code",
        "colab": {}
      },
      "source": [
        "files.download('grid_graph_%d_%d.txt' % (r,c))"
      ],
      "execution_count": 0,
      "outputs": []
    },
    {
      "cell_type": "markdown",
      "metadata": {
        "id": "Ln2AQlg6iRik",
        "colab_type": "text"
      },
      "source": [
        "## sparse grid graph\n",
        "\n"
      ]
    },
    {
      "cell_type": "code",
      "metadata": {
        "id": "dAx6A5BzXbwJ",
        "colab_type": "code",
        "outputId": "1212dd6c-4afa-4f4d-eade-c0a5343ebb8a",
        "colab": {
          "base_uri": "https://localhost:8080/",
          "height": 85
        }
      },
      "source": [
        "import numpy as np\n",
        "r = 200\n",
        "c = 200\n",
        "G = snap.GenGrid(snap.PUNGraph, r, c, False)\n",
        "E = G.GetEdges()\n",
        "reqE = (int)(r*c*1.3)\n",
        "lis = np.random.rand(E)\n",
        "delE = lis>(reqE/E)\n",
        "i=0\n",
        "for EI in G.Edges():\n",
        "  if(delE[i]):\n",
        "    G.DelEdge(EI.GetSrcNId(), EI.GetDstNId())\n",
        "  i+=1\n",
        "print(snap.GetBfsEffDiamAll(G,200, False))\n",
        "print(snap.GetClustCf(G))\n",
        "print(G.GetEdges())\n",
        "sumDeg = 0\n",
        "CntV = snap.TIntPrV()\n",
        "snap.GetOutDegCnt(G, CntV)\n",
        "for p in CntV:\n",
        "  sumDeg += p.GetVal1()* p.GetVal2()\n",
        "print(sumDeg/(r*c))\n",
        "snap.SaveEdgeList(G, 'grid_graph_deleted_%d_%d.txt' % (r,c))"
      ],
      "execution_count": 0,
      "outputs": [
        {
          "output_type": "stream",
          "text": [
            "[228.72371662232732, 228.72371662232732, 386, 138.59469907696925]\n",
            "0.0\n",
            "56889\n",
            "2.84445\n"
          ],
          "name": "stdout"
        }
      ]
    },
    {
      "cell_type": "code",
      "metadata": {
        "id": "t0j9pHBHZuWS",
        "colab_type": "code",
        "colab": {}
      },
      "source": [
        "files.download('grid_graph_deleted_%d_%d.txt' % (r,c))"
      ],
      "execution_count": 0,
      "outputs": []
    },
    {
      "cell_type": "markdown",
      "metadata": {
        "id": "o5HMCsdWo075",
        "colab_type": "text"
      },
      "source": [
        "## [Star graph](https://snap.stanford.edu/snappy/doc/reference/GenStar.html)\n",
        "Generates a graph with star topology. Node id 0 is in the center and then links to all other nodes."
      ]
    },
    {
      "cell_type": "code",
      "metadata": {
        "id": "xDdvusnVo6nG",
        "colab_type": "code",
        "colab": {}
      },
      "source": [
        "N = 3000\n",
        "G = snap.GenStar(snap.PUNGraph, N, False)\n",
        "G = snap.ConvertGraph(snap.PUNGraph, G)\n",
        "snap.SaveEdgeList(G, 'star_graph_%d.txt' % (N))"
      ],
      "execution_count": 0,
      "outputs": []
    },
    {
      "cell_type": "code",
      "metadata": {
        "id": "iXpfWOD7o-aY",
        "colab_type": "code",
        "colab": {}
      },
      "source": [
        "files.download('star_graph_%d.txt' % (N))"
      ],
      "execution_count": 0,
      "outputs": []
    },
    {
      "cell_type": "code",
      "metadata": {
        "id": "OVidXo9dpADN",
        "colab_type": "code",
        "colab": {}
      },
      "source": [
        "N = 6\n",
        "G = snap.GenStar(snap.PUNGraph, N, False)\n",
        "G = snap.ConvertGraph(snap.PUNGraph, G)\n",
        "snap.DrawGViz(G, snap.gvlDot, 'star_graph_%d.png' % (N), \"N=%d\"%(N))\n",
        "#Image('star_graph_%d.png' % (N))"
      ],
      "execution_count": 0,
      "outputs": []
    },
    {
      "cell_type": "markdown",
      "metadata": {
        "id": "CHkPp5LSsgAX",
        "colab_type": "text"
      },
      "source": [
        "## [Tree](https://snap.stanford.edu/snappy/doc/reference/GenTree.html)\n",
        "Generates a tree graph of Levels levels with every parent having Fanout children."
      ]
    },
    {
      "cell_type": "code",
      "metadata": {
        "id": "CA6LI7iQsuZ4",
        "colab_type": "code",
        "outputId": "794ab2d9-dfea-4904-afe4-1c243ec2a56f",
        "colab": {
          "base_uri": "https://localhost:8080/",
          "height": 34
        }
      },
      "source": [
        "c = 2\n",
        "d = 10\n",
        "G = snap.GenTree(snap.PUNGraph, c, d)\n",
        "snap.SaveEdgeList(G, 'tree_%d_%d.txt' % (c,d))\n",
        "print(G.GetNodes())"
      ],
      "execution_count": 0,
      "outputs": [
        {
          "output_type": "stream",
          "text": [
            "2047\n"
          ],
          "name": "stdout"
        }
      ]
    },
    {
      "cell_type": "code",
      "metadata": {
        "id": "LwxDu_9ZtFXZ",
        "colab_type": "code",
        "colab": {}
      },
      "source": [
        "files.download('tree_%d_%d.txt' % (c,d))"
      ],
      "execution_count": 0,
      "outputs": []
    },
    {
      "cell_type": "markdown",
      "metadata": {
        "id": "T28GAFE1AyUj",
        "colab_type": "text"
      },
      "source": [
        "## [Random graph model](https://snap.stanford.edu/snappy/doc/reference/GenRndGnm.html)\n",
        "Generates an Erdos-Renyi random graph of the specified GraphType."
      ]
    },
    {
      "cell_type": "code",
      "metadata": {
        "id": "nrWBiszwA1JV",
        "colab_type": "code",
        "colab": {}
      },
      "source": [
        "N = 3000\n",
        "M = 300000\n",
        "G = snap.GenRndGnm(snap.PUNGraph, N, M)\n",
        "snap.SaveEdgeList(G, 'Erdos-Renyi_random_graph_%d_%d.txt' % (N,M))"
      ],
      "execution_count": 0,
      "outputs": []
    },
    {
      "cell_type": "code",
      "metadata": {
        "id": "iSd5GD8YzckR",
        "colab_type": "code",
        "colab": {}
      },
      "source": [
        "files.download('Erdos-Renyi_random_graph_%d_%d.txt' % (N,M))"
      ],
      "execution_count": 0,
      "outputs": []
    },
    {
      "cell_type": "markdown",
      "metadata": {
        "id": "FMJZupLo8Vcw",
        "colab_type": "text"
      },
      "source": [
        "## scale-free model ([Barabasi-Albert model](https://snap.stanford.edu/snappy/doc/reference/GenPrefAttach.html))\n",
        "Generates an undirected graph with a power-law degree distribution using Barabasi-Albert model of scale-free graphs."
      ]
    },
    {
      "cell_type": "code",
      "metadata": {
        "id": "FTJVNaAM8msV",
        "colab_type": "code",
        "outputId": "d9911d9d-c76d-4572-8e75-28a8728e8d7d",
        "colab": {
          "base_uri": "https://localhost:8080/",
          "height": 51
        }
      },
      "source": [
        "N = 3000\n",
        "m = 5\n",
        "Rnd = snap.TRnd()\n",
        "G = snap.GenPrefAttach(N, m, Rnd)\n",
        "print(snap.GetBfsEffDiamAll(G,200, False))\n",
        "print(snap.GetClustCf(G))\n",
        "snap.SaveEdgeList(G, 'scale-free_%d_%d.txt' % (N,m))"
      ],
      "execution_count": 0,
      "outputs": [
        {
          "output_type": "stream",
          "text": [
            "[3.7288633538348366, 3.7288633538348366, 5, 3.279085]\n",
            "0.020481672224953135\n"
          ],
          "name": "stdout"
        }
      ]
    },
    {
      "cell_type": "code",
      "metadata": {
        "id": "wE1-mNIG8oL6",
        "colab_type": "code",
        "colab": {}
      },
      "source": [
        "files.download('scale-free_%d_%d.txt' % (N,m))"
      ],
      "execution_count": 0,
      "outputs": []
    },
    {
      "cell_type": "markdown",
      "metadata": {
        "id": "oRKqWGJaAe3L",
        "colab_type": "text"
      },
      "source": [
        "## scale-free model ([Geometric Preferential Attachment model](https://snap.stanford.edu/snappy/doc/reference/GenGeoPrefAttach.html))\n",
        "Generate a random scale-free, undirected graph using the Geometric Preferential Attachment model by Flexman, Frieze and Vera."
      ]
    },
    {
      "cell_type": "code",
      "metadata": {
        "id": "YS0Zg4HFKCyx",
        "colab_type": "code",
        "colab": {}
      },
      "source": [
        "N = 3000\n",
        "m = 5\n",
        "beta = 0.49\n",
        "Rnd = snap.TRnd()\n",
        "G = snap.GenGeoPrefAttach(N, m, beta, Rnd)\n",
        "snap.SaveEdgeList(G, 'scale-free_geometric_%d_%d_%.2f.txt' % (N,m,beta))"
      ],
      "execution_count": 0,
      "outputs": []
    },
    {
      "cell_type": "code",
      "metadata": {
        "id": "lfn46L3aKXOE",
        "colab_type": "code",
        "colab": {}
      },
      "source": [
        "files.download('scale-free_geometric_%d_%d_%.2f.txt' % (N,m,beta))"
      ],
      "execution_count": 0,
      "outputs": []
    },
    {
      "cell_type": "markdown",
      "metadata": {
        "id": "-t0FjI9FAnfo",
        "colab_type": "text"
      },
      "source": [
        "## [forest fire model](https://snap.stanford.edu/snappy/doc/reference/GenForestFire.html)\n",
        "Generates a random Forest Fire, directed graph with given probabilities."
      ]
    },
    {
      "cell_type": "code",
      "metadata": {
        "id": "krFY0_gj3Q2F",
        "colab_type": "code",
        "outputId": "174dd0f4-902d-4fe0-d098-d1b091aee86c",
        "colab": {
          "base_uri": "https://localhost:8080/",
          "height": 51
        }
      },
      "source": [
        "N = 5000\n",
        "f = 0.5\n",
        "b = 0.30\n",
        "G = snap.GenForestFire(N,f,b)\n",
        "G = snap.ConvertGraph(snap.PUNGraph, G)\n",
        "print(snap.GetBfsEffDiamAll(G,200, False))\n",
        "print(snap.GetClustCf(G))\n",
        "snap.SaveEdgeList(G, 'forest_fire_%d_%.2f_%.2f.txt' % (N,f,b))"
      ],
      "execution_count": 0,
      "outputs": [
        {
          "output_type": "stream",
          "text": [
            "[2.242370018562804, 2.242370018562804, 7, 2.010306]\n",
            "0.8800844229528164\n"
          ],
          "name": "stdout"
        }
      ]
    },
    {
      "cell_type": "code",
      "metadata": {
        "id": "jzuis3yX3zgi",
        "colab_type": "code",
        "colab": {}
      },
      "source": [
        "files.download('forest_fire_%d_%.2f_%.2f.txt' % (N,f,b))"
      ],
      "execution_count": 0,
      "outputs": []
    },
    {
      "cell_type": "code",
      "metadata": {
        "id": "WK8WROhD-ssF",
        "colab_type": "code",
        "colab": {}
      },
      "source": [
        "N = 30\n",
        "f = 0.35\n",
        "b = 0.35\n",
        "G = snap.GenForestFire(N,f,b)\n",
        "snap.DrawGViz(G, snap.gvlDot, 'forest_fire_%d_%.2f_%.2f.png' % (N,f,b))\n",
        "#Image('forest_fire_%d_%.2f_%.2f.png' % (N,f,b))"
      ],
      "execution_count": 0,
      "outputs": []
    },
    {
      "cell_type": "code",
      "metadata": {
        "id": "RPO1mxgZcto_",
        "colab_type": "code",
        "colab": {}
      },
      "source": [
        ""
      ],
      "execution_count": 0,
      "outputs": []
    },
    {
      "cell_type": "markdown",
      "metadata": {
        "id": "ygxsg5D5-Leg",
        "colab_type": "text"
      },
      "source": [
        "## small world model\n"
      ]
    },
    {
      "cell_type": "code",
      "metadata": {
        "id": "3iq2QwEX-Rdc",
        "colab_type": "code",
        "outputId": "96a77992-984b-4ed2-88f8-09b062a5c2f9",
        "colab": {
          "base_uri": "https://localhost:8080/",
          "height": 51
        }
      },
      "source": [
        "N = 5000\n",
        "d = 5\n",
        "p = 0.1\n",
        "Rnd = snap.TRnd(1,0)\n",
        "G = snap.GenSmallWorld(N, d, p, Rnd)\n",
        "G = snap.ConvertGraph(snap.PUNGraph, G)\n",
        "print(snap.GetBfsEffDiamAll(G,200, False))\n",
        "print(snap.GetClustCf(G))\n",
        "snap.SaveEdgeList(G, 'small_world_%d_%d_%.3f.txt' % (N,d,p))"
      ],
      "execution_count": 0,
      "outputs": [
        {
          "output_type": "stream",
          "text": [
            "[6.427417636926897, 6.427417636926897, 9, 5.610188]\n",
            "0.4924089366189394\n"
          ],
          "name": "stdout"
        }
      ]
    },
    {
      "cell_type": "code",
      "metadata": {
        "id": "r35EHVI4-kno",
        "colab_type": "code",
        "colab": {}
      },
      "source": [
        "files.download('small_world_%d_%d_%.3f.txt' % (N,d,p))"
      ],
      "execution_count": 0,
      "outputs": []
    },
    {
      "cell_type": "markdown",
      "metadata": {
        "id": "E3cBz1OQNSdX",
        "colab_type": "text"
      },
      "source": [
        "## [Ravasz-Barabasi deterministic scale-free graph](http://snap.stanford.edu/snappy/doc/reference/GenBaraHierar.html)"
      ]
    },
    {
      "cell_type": "code",
      "metadata": {
        "id": "7aquTgjxNegD",
        "colab_type": "code",
        "outputId": "cc811b8f-b752-42ed-ecc2-4927a2ab2533",
        "colab": {
          "base_uri": "https://localhost:8080/",
          "height": 51
        }
      },
      "source": [
        "n=5\n",
        "G = snap.GenBaraHierar(snap.PNGraph, n, False)\n",
        "G = snap.ConvertGraph(snap.PUNGraph, G)\n",
        "snap.SaveEdgeList(G, 'ravasz-barabasi_%d.txt' % (n))\n",
        "print(snap.GetBfsEffDiamAll(G,2000, False))\n",
        "print(snap.GetClustCf(G))"
      ],
      "execution_count": 0,
      "outputs": [
        {
          "output_type": "stream",
          "text": [
            "[6.330690213229471, 6.330690213229471, 12, 4.560583552]\n",
            "0.5508829695844791\n"
          ],
          "name": "stdout"
        }
      ]
    },
    {
      "cell_type": "code",
      "metadata": {
        "id": "vhDcHFAjOyxP",
        "colab_type": "code",
        "colab": {}
      },
      "source": [
        "files.download('ravasz-barabasi_%d.txt' % (n))"
      ],
      "execution_count": 0,
      "outputs": []
    },
    {
      "cell_type": "code",
      "metadata": {
        "id": "Y45x28niPN7d",
        "colab_type": "code",
        "colab": {}
      },
      "source": [
        ""
      ],
      "execution_count": 0,
      "outputs": []
    },
    {
      "cell_type": "markdown",
      "metadata": {
        "id": "Fb1jkm_NsyWZ",
        "colab_type": "text"
      },
      "source": [
        "## [Copying model](https://snap.stanford.edu/snappy/doc/reference/GenCopyModel.html)\n",
        "Generates a random scale-free network with Nodes nodes using the Copying Model. The generating process operates as follows: Node u is added to a graph, it selects a random node v, and with probability Beta it links to v, with 1 - Beta links u links to neighbor of v."
      ]
    },
    {
      "cell_type": "code",
      "metadata": {
        "id": "ntJ9yycfs-0-",
        "colab_type": "code",
        "outputId": "90fdcdf1-8e36-4b73-df62-cfbbbb373150",
        "colab": {
          "base_uri": "https://localhost:8080/",
          "height": 51
        }
      },
      "source": [
        "n=5000\n",
        "beta = 0.9\n",
        "G =  snap.GenCopyModel(n, beta, snap.TRnd())\n",
        "G = snap.ConvertGraph(snap.PUNGraph, G)\n",
        "snap.SaveEdgeList(G, 'copying_model_%d_%.2f.txt' % (n,beta))\n",
        "print(snap.GetBfsEffDiamAll(G,2000, False))\n",
        "print(snap.GetClustCf(G))"
      ],
      "execution_count": 0,
      "outputs": [
        {
          "output_type": "stream",
          "text": [
            "[17.201033973765487, 17.201033973765487, 30, 13.0264238]\n",
            "2.222222222222222e-05\n"
          ],
          "name": "stdout"
        }
      ]
    },
    {
      "cell_type": "code",
      "metadata": {
        "id": "iPqaL6-f7SzI",
        "colab_type": "code",
        "colab": {}
      },
      "source": [
        "files.download('copying_model_%d_%.2f.txt' % (n,beta))"
      ],
      "execution_count": 0,
      "outputs": []
    },
    {
      "cell_type": "code",
      "metadata": {
        "id": "Txhe0S6_7gyJ",
        "colab_type": "code",
        "colab": {}
      },
      "source": [
        ""
      ],
      "execution_count": 0,
      "outputs": []
    },
    {
      "cell_type": "markdown",
      "metadata": {
        "id": "hSzme5Q3Cqeq",
        "colab_type": "text"
      },
      "source": [
        "## [Rewrite](https://snap.stanford.edu/snappy/doc/reference/GenRewire.html)\n"
      ]
    },
    {
      "cell_type": "code",
      "metadata": {
        "id": "mq7RrTZgCx0M",
        "colab_type": "code",
        "colab": {}
      },
      "source": [
        "n=5\n",
        "G = snap.GenBaraHierar(snap.PNGraph, n, False)\n",
        "G = snap.ConvertGraph(snap.PUNGraph, G)"
      ],
      "execution_count": 0,
      "outputs": []
    },
    {
      "cell_type": "code",
      "metadata": {
        "id": "p5C-LjRJDFxl",
        "colab_type": "code",
        "outputId": "3a5d774a-d839-4074-9beb-224b66396a14",
        "colab": {
          "base_uri": "https://localhost:8080/",
          "height": 85
        }
      },
      "source": [
        "E = snap.CntUniqBiDirEdges(G)\n",
        "p = 0.0001\n",
        "print(E, p, E*p, int(E*p))\n",
        "GOut = snap.GenRewire(G, 1, snap.TRnd())\n",
        "print(E, p, E*p, int(E*p))\n",
        "print(snap.GetBfsEffDiamAll(GOut,100, False))\n",
        "print(snap.GetClustCf(GOut))\n",
        "snap.SaveEdgeList(GOut, 'ravasz-barabasi_rewrite_%d_%.4f.txt' % (n,p))"
      ],
      "execution_count": 0,
      "outputs": [
        {
          "output_type": "stream",
          "text": [
            "58616 0.0001 5.8616 5\n",
            "58616 0.0001 5.8616 5\n",
            "[3.6241033736708, 3.6241033736708, 6, 3.10185472]\n",
            "0.08706837870031181\n"
          ],
          "name": "stdout"
        }
      ]
    },
    {
      "cell_type": "code",
      "metadata": {
        "id": "DlPtAPKmDhQ6",
        "colab_type": "code",
        "colab": {}
      },
      "source": [
        "files.download('ravasz-barabasi_rewrite_%d_%.4f.txt' % (n,p))"
      ],
      "execution_count": 0,
      "outputs": []
    },
    {
      "cell_type": "code",
      "metadata": {
        "id": "equjjCbSInII",
        "colab_type": "code",
        "outputId": "a68d6df7-0a9f-49db-be28-55121ca27022",
        "colab": {
          "base_uri": "https://localhost:8080/",
          "height": 663
        }
      },
      "source": [
        "GIn = snap.GenRndGnm(snap.PUNGraph, 10, 20)\n",
        "for EI in GIn.Edges():\n",
        "    print(\"edge: (%d, %d)\" % (EI.GetSrcNId(), EI.GetDstNId()))\n",
        "\n",
        "Rnd = snap.TRnd()\n",
        "GOut = snap.GenRewire(GIn, 1, Rnd)\n",
        "for EI in GOut.Edges():\n",
        "    print(\"edge: (%d, %d)\" % (EI.GetSrcNId(), EI.GetDstNId()))"
      ],
      "execution_count": 0,
      "outputs": [
        {
          "output_type": "stream",
          "text": [
            "edge: (0, 1)\n",
            "edge: (0, 3)\n",
            "edge: (1, 2)\n",
            "edge: (1, 6)\n",
            "edge: (1, 7)\n",
            "edge: (2, 3)\n",
            "edge: (2, 5)\n",
            "edge: (2, 6)\n",
            "edge: (2, 7)\n",
            "edge: (3, 4)\n",
            "edge: (3, 5)\n",
            "edge: (3, 7)\n",
            "edge: (3, 9)\n",
            "edge: (4, 5)\n",
            "edge: (4, 8)\n",
            "edge: (5, 8)\n",
            "edge: (5, 9)\n",
            "edge: (6, 7)\n",
            "edge: (7, 9)\n",
            "edge: (8, 9)\n",
            "edge: (0, 3)\n",
            "edge: (0, 8)\n",
            "edge: (1, 2)\n",
            "edge: (1, 4)\n",
            "edge: (1, 5)\n",
            "edge: (1, 6)\n",
            "edge: (2, 5)\n",
            "edge: (2, 6)\n",
            "edge: (2, 7)\n",
            "edge: (2, 9)\n",
            "edge: (3, 5)\n",
            "edge: (3, 7)\n",
            "edge: (3, 9)\n",
            "edge: (4, 5)\n",
            "edge: (4, 8)\n",
            "edge: (6, 7)\n",
            "edge: (7, 8)\n",
            "edge: (7, 9)\n"
          ],
          "name": "stdout"
        }
      ]
    },
    {
      "cell_type": "code",
      "metadata": {
        "id": "CripdHKlKAG0",
        "colab_type": "code",
        "colab": {}
      },
      "source": [
        ""
      ],
      "execution_count": 0,
      "outputs": []
    }
  ]
}